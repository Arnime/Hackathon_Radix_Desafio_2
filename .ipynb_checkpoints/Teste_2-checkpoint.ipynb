{
 "cells": [
  {
   "cell_type": "code",
   "execution_count": 10,
   "id": "feeffb07-c193-4edf-9363-9dee9754d000",
   "metadata": {},
   "outputs": [],
   "source": [
    "import haversine as hs\n",
    "import jaydebeapi\n",
    "import pandas as pd"
   ]
  },
  {
   "cell_type": "code",
   "execution_count": 8,
   "id": "517d9189-e96c-43ee-9b63-7ee5753a69ab",
   "metadata": {},
   "outputs": [
    {
     "data": {
      "text/plain": [
       "9530.879268276098"
      ]
     },
     "execution_count": 8,
     "metadata": {},
     "output_type": "execute_result"
    }
   ],
   "source": [
    "loc1=(-23.010536,-43.320299)\n",
    "loc2=(-22.979746,-43.233402)\n",
    "hs.haversine(loc1,loc2,unit=hs.Unit.METERS)"
   ]
  },
  {
   "cell_type": "code",
   "execution_count": 9,
   "id": "4dcd5e07-9e24-42c5-91c3-0cd6a613383e",
   "metadata": {},
   "outputs": [
    {
     "data": {
      "text/plain": [
       "9530.879268276098"
      ]
     },
     "execution_count": 9,
     "metadata": {},
     "output_type": "execute_result"
    }
   ],
   "source": [
    "loc3=(-43.320299,-23.010536)\n",
    "loc4=(-43.233402,-22.979746)\n",
    "hs.haversine(loc1,loc2,unit=hs.Unit.METERS)"
   ]
  },
  {
   "cell_type": "code",
   "execution_count": null,
   "id": "7219129e-1d5b-417e-937d-317fdc555dfa",
   "metadata": {},
   "outputs": [],
   "source": [
    "database = \"../example.sqlite\"\n",
    "\n",
    "conn = jaydebeapi.connect(\"org.sqlite.JDBC\",\n",
    "                          f\"\"\"jdbc:sqlite:{database}\"\"\",\n",
    "                          None,\n",
    "                          \"sqlite-jdbc-3.30.1.jar\")\n",
    "df = pd.read_sql(\"select * from sqlite_master\", con=conn)\n",
    "print(df)\n",
    "conn.close()"
   ]
  }
 ],
 "metadata": {
  "kernelspec": {
   "display_name": "Python 3 (ipykernel)",
   "language": "python",
   "name": "python3"
  },
  "language_info": {
   "codemirror_mode": {
    "name": "ipython",
    "version": 3
   },
   "file_extension": ".py",
   "mimetype": "text/x-python",
   "name": "python",
   "nbconvert_exporter": "python",
   "pygments_lexer": "ipython3",
   "version": "3.8.13"
  }
 },
 "nbformat": 4,
 "nbformat_minor": 5
}
