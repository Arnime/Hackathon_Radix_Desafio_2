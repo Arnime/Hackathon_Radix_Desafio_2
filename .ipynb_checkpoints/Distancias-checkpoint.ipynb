{
 "cells": [
  {
   "cell_type": "code",
   "execution_count": 2,
   "id": "feeffb07-c193-4edf-9363-9dee9754d000",
   "metadata": {},
   "outputs": [],
   "source": [
    "import haversine as hs\n",
    "import pandas as pd"
   ]
  },
  {
   "cell_type": "code",
   "execution_count": 4,
   "id": "ed2cf49b",
   "metadata": {},
   "outputs": [
    {
     "data": {
      "text/html": [
       "<div>\n",
       "<style scoped>\n",
       "    .dataframe tbody tr th:only-of-type {\n",
       "        vertical-align: middle;\n",
       "    }\n",
       "\n",
       "    .dataframe tbody tr th {\n",
       "        vertical-align: top;\n",
       "    }\n",
       "\n",
       "    .dataframe thead th {\n",
       "        text-align: right;\n",
       "    }\n",
       "</style>\n",
       "<table border=\"1\" class=\"dataframe\">\n",
       "  <thead>\n",
       "    <tr style=\"text-align: right;\">\n",
       "      <th></th>\n",
       "      <th>Plataforma</th>\n",
       "      <th>Latitude</th>\n",
       "      <th>Longitude</th>\n",
       "    </tr>\n",
       "  </thead>\n",
       "  <tbody>\n",
       "    <tr>\n",
       "      <th>0</th>\n",
       "      <td>FPSO CIDADE DE PARATY</td>\n",
       "      <td>-25.39348</td>\n",
       "      <td>-42.761260</td>\n",
       "    </tr>\n",
       "    <tr>\n",
       "      <th>1</th>\n",
       "      <td>FPSO CIDADE DE MARICÁ</td>\n",
       "      <td>-25.44787</td>\n",
       "      <td>-42.752990</td>\n",
       "    </tr>\n",
       "    <tr>\n",
       "      <th>2</th>\n",
       "      <td>FPSO CIDADE DE SÃO PAULO</td>\n",
       "      <td>-25.79843</td>\n",
       "      <td>-43.262620</td>\n",
       "    </tr>\n",
       "    <tr>\n",
       "      <th>3</th>\n",
       "      <td>FPSO CIDADE DE SANTOS</td>\n",
       "      <td>-24.18360</td>\n",
       "      <td>-42.425094</td>\n",
       "    </tr>\n",
       "    <tr>\n",
       "      <th>4</th>\n",
       "      <td>FPSO CIDADE DE ITAGUAÍ</td>\n",
       "      <td>-25.13999</td>\n",
       "      <td>-42.944170</td>\n",
       "    </tr>\n",
       "  </tbody>\n",
       "</table>\n",
       "</div>"
      ],
      "text/plain": [
       "                 Plataforma  Latitude  Longitude\n",
       "0     FPSO CIDADE DE PARATY -25.39348 -42.761260\n",
       "1     FPSO CIDADE DE MARICÁ -25.44787 -42.752990\n",
       "2  FPSO CIDADE DE SÃO PAULO -25.79843 -43.262620\n",
       "3     FPSO CIDADE DE SANTOS -24.18360 -42.425094\n",
       "4    FPSO CIDADE DE ITAGUAÍ -25.13999 -42.944170"
      ]
     },
     "execution_count": 4,
     "metadata": {},
     "output_type": "execute_result"
    }
   ],
   "source": [
    "df = pd.read_excel('lat_long.xlsx')\n",
    "df"
   ]
  },
  {
   "cell_type": "markdown",
   "id": "257dedf4-0eac-4a48-93ee-97000f88d76c",
   "metadata": {},
   "source": [
    "# Calculo de Distancias Lat e Long"
   ]
  },
  {
   "cell_type": "code",
   "execution_count": 11,
   "id": "71dc7151",
   "metadata": {},
   "outputs": [
    {
     "data": {
      "text/plain": [
       "20"
      ]
     },
     "execution_count": 11,
     "metadata": {},
     "output_type": "execute_result"
    }
   ],
   "source": [
    "dist = {}\n",
    "for i in range(df.shape[0]):\n",
    "    for j in range(df.shape[0]):\n",
    "        if i != j:\n",
    "            dist[str(i+1)+'-'+str(j+1)] = hs.haversine((df.loc[i]['Latitude'],df.loc[i]['Longitude']),(df.loc[j]['Latitude'],df.loc[j]['Longitude']),unit=hs.Unit.METERS)/1000\n",
    "len(dist)"
   ]
  }
 ],
 "metadata": {
  "kernelspec": {
   "display_name": "Python 3",
   "language": "python",
   "name": "python3"
  },
  "language_info": {
   "codemirror_mode": {
    "name": "ipython",
    "version": 3
   },
   "file_extension": ".py",
   "mimetype": "text/x-python",
   "name": "python",
   "nbconvert_exporter": "python",
   "pygments_lexer": "ipython3",
   "version": "3.8.8"
  }
 },
 "nbformat": 4,
 "nbformat_minor": 5
}
